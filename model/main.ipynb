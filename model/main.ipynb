{
 "cells": [
  {
   "cell_type": "markdown",
   "metadata": {
    "id": "14aff891",
    "papermill": {
     "duration": 0.008648,
     "end_time": "2024-06-21T13:09:57.871835",
     "exception": false,
     "start_time": "2024-06-21T13:09:57.863187",
     "status": "completed"
    },
    "tags": []
   },
   "source": [
    "# Detection of Large-Language Model (LLM) Generated Text"
   ]
  },
  {
   "cell_type": "markdown",
   "metadata": {
    "collapsed": false
   },
   "source": [
    "# Импорт библиотек"
   ]
  },
  {
   "cell_type": "code",
   "execution_count": null,
   "metadata": {
    "collapsed": false,
    "is_executing": true
   },
   "outputs": [],
   "source": [
    "import pandas as pd\n",
    "import numpy as np\n",
    "\n",
    "from tensorflow.keras.models import Sequential\n",
    "from tensorflow.keras.layers import Dense, Dropout\n",
    "from tensorflow.keras.optimizers import Adam\n",
    "import tensorflow as tf\n",
    "\n",
    "\n",
    "from sklearn.feature_extraction.text import TfidfVectorizer\n",
    "from sklearn.model_selection import train_test_split\n",
    "from sklearn.preprocessing import LabelEncoder\n",
    "from sklearn.metrics import classification_report, roc_auc_score, confusion_matrix\n",
    "\n",
    "import matplotlib.pyplot as plt\n",
    "import seaborn as sns\n"
   ]
  },
  {
   "cell_type": "markdown",
   "metadata": {
    "id": "27ad31d6",
    "papermill": {
     "duration": 0.008396,
     "end_time": "2024-06-21T13:10:13.168413",
     "exception": false,
     "start_time": "2024-06-21T13:10:13.160017",
     "status": "completed"
    },
    "tags": []
   },
   "source": [
    "# Загружаем и предобрабртываем данные"
   ]
  },
  {
   "cell_type": "code",
   "execution_count": null,
   "metadata": {
    "execution": {
     "iopub.execute_input": "2024-07-10T09:30:00.047159Z",
     "iopub.status.busy": "2024-07-10T09:30:00.045592Z",
     "iopub.status.idle": "2024-07-10T09:30:03.408403Z",
     "shell.execute_reply": "2024-07-10T09:30:03.406583Z",
     "shell.execute_reply.started": "2024-07-10T09:30:00.047093Z"
    },
    "executionInfo": {
     "elapsed": 2002,
     "status": "ok",
     "timestamp": 1720455844415,
     "user": {
      "displayName": "София Совкова",
      "userId": "14493279662693772136"
     },
     "user_tz": -180
    },
    "id": "94c38e0e",
    "papermill": {
     "duration": 2.432262,
     "end_time": "2024-06-21T13:10:15.609061",
     "exception": false,
     "start_time": "2024-06-21T13:10:13.176799",
     "status": "completed"
    },
    "tags": [],
    "trusted": true,
    "is_executing": true
   },
   "outputs": [],
   "source": [
    "data=pd.read_csv('data/train_v2_drcat_02.csv')"
   ]
  },
  {
   "cell_type": "code",
   "execution_count": null,
   "metadata": {
    "execution": {
     "iopub.execute_input": "2024-07-10T09:30:07.354762Z",
     "iopub.status.busy": "2024-07-10T09:30:07.354341Z",
     "iopub.status.idle": "2024-07-10T09:30:07.706132Z",
     "shell.execute_reply": "2024-07-10T09:30:07.704943Z",
     "shell.execute_reply.started": "2024-07-10T09:30:07.354729Z"
    },
    "executionInfo": {
     "elapsed": 538,
     "status": "ok",
     "timestamp": 1720455887090,
     "user": {
      "displayName": "София Совкова",
      "userId": "14493279662693772136"
     },
     "user_tz": -180
    },
    "id": "a75b0cdd",
    "papermill": {
     "duration": 0.609391,
     "end_time": "2024-06-21T13:10:17.111805",
     "exception": false,
     "start_time": "2024-06-21T13:10:16.502414",
     "status": "completed"
    },
    "tags": [],
    "trusted": true,
    "is_executing": true
   },
   "outputs": [],
   "source": [
    "# Удаляем дупликаты и нулевые значения\n",
    "data.drop_duplicates(inplace=True)\n",
    "data.dropna(inplace=True)"
   ]
  },
  {
   "cell_type": "markdown",
   "metadata": {
    "id": "d090294f",
    "papermill": {
     "duration": 0.016923,
     "end_time": "2024-06-21T13:11:06.485337",
     "exception": false,
     "start_time": "2024-06-21T13:11:06.468414",
     "status": "completed"
    },
    "tags": []
   },
   "source": [
    "# Векторизуем текст"
   ]
  },
  {
   "cell_type": "code",
   "execution_count": null,
   "metadata": {
    "execution": {
     "iopub.execute_input": "2024-07-10T09:30:21.355713Z",
     "iopub.status.busy": "2024-07-10T09:30:21.355272Z",
     "iopub.status.idle": "2024-07-10T09:30:46.601489Z",
     "shell.execute_reply": "2024-07-10T09:30:46.599472Z",
     "shell.execute_reply.started": "2024-07-10T09:30:21.355679Z"
    },
    "executionInfo": {
     "elapsed": 21743,
     "status": "ok",
     "timestamp": 1720455933221,
     "user": {
      "displayName": "София Совкова",
      "userId": "14493279662693772136"
     },
     "user_tz": -180
    },
    "id": "7318984b",
    "outputId": "155d5d29-8d86-456c-e289-4234c37b3d7c",
    "papermill": {
     "duration": 15.435522,
     "end_time": "2024-06-21T13:11:21.938080",
     "exception": false,
     "start_time": "2024-06-21T13:11:06.502558",
     "status": "completed"
    },
    "tags": [],
    "trusted": true,
    "is_executing": true
   },
   "outputs": [],
   "source": [
    "from sklearn.feature_extraction.text import TfidfVectorizer\n",
    "\n",
    "# Инициализация TF-IDF векторизатора\n",
    "tfidf_vectorizer = TfidfVectorizer(max_features=5000)  # Вы можете настроить max_features по мере необходимости\n",
    "\n",
    "# Токенизация и создание TF-IDF векторов для столбца 'text' объединенного набора данных\n",
    "tfidf_vectors = tfidf_vectorizer.fit_transform(data['text'])\n",
    "\n",
    "# Преобразование TF-IDF векторов в DataFrame для удобного анализа\n",
    "tfidf_df = pd.DataFrame(tfidf_vectors.toarray(), columns=tfidf_vectorizer.get_feature_names_out())\n",
    "\n",
    "# Отображение DataFrame с TF-IDF\n",
    "print(tfidf_df.head())"
   ]
  },
  {
   "cell_type": "markdown",
   "metadata": {
    "id": "b46ee4cf",
    "papermill": {
     "duration": 0.016802,
     "end_time": "2024-06-21T13:11:21.972145",
     "exception": false,
     "start_time": "2024-06-21T13:11:21.955343",
     "status": "completed"
    },
    "tags": []
   },
   "source": [
    "# Делим датасет на тренировочные и тестовые данные"
   ]
  },
  {
   "cell_type": "code",
   "execution_count": null,
   "metadata": {
    "execution": {
     "iopub.execute_input": "2024-07-10T09:30:54.000560Z",
     "iopub.status.busy": "2024-07-10T09:30:53.999326Z",
     "iopub.status.idle": "2024-07-10T09:30:54.769330Z",
     "shell.execute_reply": "2024-07-10T09:30:54.768060Z",
     "shell.execute_reply.started": "2024-07-10T09:30:54.000502Z"
    },
    "executionInfo": {
     "elapsed": 1298,
     "status": "ok",
     "timestamp": 1720455950569,
     "user": {
      "displayName": "София Совкова",
      "userId": "14493279662693772136"
     },
     "user_tz": -180
    },
    "id": "1760349c",
    "papermill": {
     "duration": 0.762082,
     "end_time": "2024-06-21T13:11:22.751457",
     "exception": false,
     "start_time": "2024-06-21T13:11:21.989375",
     "status": "completed"
    },
    "tags": [],
    "trusted": true,
    "is_executing": true
   },
   "outputs": [],
   "source": [
    "X = tfidf_df.values \n",
    "y = data['label'].values\n",
    "\n",
    "X_train, X_test, y_train, y_test = train_test_split(X, y, test_size=0.2, random_state=42)\n"
   ]
  },
  {
   "cell_type": "markdown",
   "metadata": {
    "id": "ca3694d5",
    "papermill": {
     "duration": 0.016808,
     "end_time": "2024-06-21T13:11:22.785681",
     "exception": false,
     "start_time": "2024-06-21T13:11:22.768873",
     "status": "completed"
    },
    "tags": []
   },
   "source": [
    "# Кодируем"
   ]
  },
  {
   "cell_type": "code",
   "execution_count": null,
   "metadata": {
    "execution": {
     "iopub.execute_input": "2024-07-10T09:31:09.424419Z",
     "iopub.status.busy": "2024-07-10T09:31:09.423961Z",
     "iopub.status.idle": "2024-07-10T09:31:09.433531Z",
     "shell.execute_reply": "2024-07-10T09:31:09.432082Z",
     "shell.execute_reply.started": "2024-07-10T09:31:09.424376Z"
    },
    "executionInfo": {
     "elapsed": 244,
     "status": "ok",
     "timestamp": 1720455972592,
     "user": {
      "displayName": "София Совкова",
      "userId": "14493279662693772136"
     },
     "user_tz": -180
    },
    "id": "138c0ca2",
    "papermill": {
     "duration": 0.030104,
     "end_time": "2024-06-21T13:11:22.833148",
     "exception": false,
     "start_time": "2024-06-21T13:11:22.803044",
     "status": "completed"
    },
    "tags": [],
    "trusted": true,
    "is_executing": true
   },
   "outputs": [],
   "source": [
    "# Кодирование целевых меток (0 и 1) с использованием LabelEncoder\n",
    "label_encoder = LabelEncoder()\n",
    "y_train_encoded = label_encoder.fit_transform(y_train)\n",
    "y_test_encoded = label_encoder.transform(y_test)"
   ]
  },
  {
   "cell_type": "markdown",
   "metadata": {
    "id": "926bf85e",
    "papermill": {
     "duration": 0.017497,
     "end_time": "2024-06-21T13:11:22.868012",
     "exception": false,
     "start_time": "2024-06-21T13:11:22.850515",
     "status": "completed"
    },
    "tags": []
   },
   "source": [
    "# Простая нейронная сеть для классификации текста"
   ]
  },
  {
   "cell_type": "code",
   "execution_count": null,
   "metadata": {
    "execution": {
     "iopub.execute_input": "2024-07-10T09:31:12.950491Z",
     "iopub.status.busy": "2024-07-10T09:31:12.948959Z",
     "iopub.status.idle": "2024-07-10T09:31:13.102353Z",
     "shell.execute_reply": "2024-07-10T09:31:13.100863Z",
     "shell.execute_reply.started": "2024-07-10T09:31:12.950438Z"
    },
    "executionInfo": {
     "elapsed": 254,
     "status": "ok",
     "timestamp": 1720455996185,
     "user": {
      "displayName": "София Совкова",
      "userId": "14493279662693772136"
     },
     "user_tz": -180
    },
    "id": "303bb1b2",
    "papermill": {
     "duration": 0.14576,
     "end_time": "2024-06-21T13:11:23.036902",
     "exception": false,
     "start_time": "2024-06-21T13:11:22.891142",
     "status": "completed"
    },
    "tags": [],
    "trusted": true,
    "is_executing": true
   },
   "outputs": [],
   "source": [
    "# Создаем модель для нейронной сети\n",
    "model = Sequential([\n",
    "    Dense(128, activation='relu', input_shape=(X_train.shape[1],)),\n",
    "    Dropout(0.3),\n",
    "    Dense(64, activation='relu'),\n",
    "    Dropout(0.3),\n",
    "    Dense(1, activation='sigmoid')\n",
    "])\n",
    "\n",
    "model.compile(optimizer=Adam(learning_rate=0.001), loss='binary_crossentropy', metrics=['accuracy'])\n"
   ]
  },
  {
   "cell_type": "markdown",
   "metadata": {
    "id": "8a7fb85e",
    "papermill": {
     "duration": 0.017411,
     "end_time": "2024-06-21T13:11:23.071970",
     "exception": false,
     "start_time": "2024-06-21T13:11:23.054559",
     "status": "completed"
    },
    "tags": []
   },
   "source": [
    "# Обучение"
   ]
  },
  {
   "cell_type": "code",
   "execution_count": null,
   "metadata": {
    "execution": {
     "iopub.execute_input": "2024-07-10T09:31:17.269079Z",
     "iopub.status.busy": "2024-07-10T09:31:17.268418Z",
     "iopub.status.idle": "2024-07-10T09:33:07.090380Z",
     "shell.execute_reply": "2024-07-10T09:33:07.088491Z",
     "shell.execute_reply.started": "2024-07-10T09:31:17.269035Z"
    },
    "executionInfo": {
     "elapsed": 145172,
     "status": "ok",
     "timestamp": 1720456148150,
     "user": {
      "displayName": "София Совкова",
      "userId": "14493279662693772136"
     },
     "user_tz": -180
    },
    "id": "2a1062e6",
    "is_executing": true,
    "outputId": "0f1635e5-b0c0-412d-e70f-de610cb6fb8f",
    "papermill": {
     "duration": 71.901109,
     "end_time": "2024-06-21T13:12:34.996839",
     "exception": false,
     "start_time": "2024-06-21T13:11:23.095730",
     "status": "completed"
    },
    "tags": [],
    "trusted": true
   },
   "outputs": [],
   "source": [
    "history = model.fit(X_train, y_train_encoded, epochs=10, batch_size=32, validation_data=(X_test, y_test_encoded), verbose=1)"
   ]
  },
  {
   "cell_type": "code",
   "execution_count": null,
   "metadata": {
    "execution": {
     "iopub.execute_input": "2024-07-10T09:34:02.335163Z",
     "iopub.status.busy": "2024-07-10T09:34:02.334664Z",
     "iopub.status.idle": "2024-07-10T09:34:03.868138Z",
     "shell.execute_reply": "2024-07-10T09:34:03.866352Z",
     "shell.execute_reply.started": "2024-07-10T09:34:02.335124Z"
    },
    "executionInfo": {
     "elapsed": 1715,
     "status": "ok",
     "timestamp": 1720456158954,
     "user": {
      "displayName": "София Совкова",
      "userId": "14493279662693772136"
     },
     "user_tz": -180
    },
    "id": "5ca9a61e",
    "is_executing": true,
    "outputId": "6e3e3b8e-b26f-45c7-8c53-4e12083850df",
    "papermill": {
     "duration": 1.010463,
     "end_time": "2024-06-21T13:12:36.373429",
     "exception": false,
     "start_time": "2024-06-21T13:12:35.362966",
     "status": "completed"
    },
    "tags": [],
    "trusted": true
   },
   "outputs": [],
   "source": [
    "# Точность на тестовых данных\n",
    "test_loss, test_accuracy = model.evaluate(X_test, y_test_encoded)\n",
    "print(f'Test Accuracy: {test_accuracy:.4f}')"
   ]
  },
  {
   "cell_type": "markdown",
   "metadata": {
    "id": "99e82fa0",
    "papermill": {
     "duration": 0.099439,
     "end_time": "2024-06-21T13:12:39.152841",
     "exception": false,
     "start_time": "2024-06-21T13:12:39.053402",
     "status": "completed"
    },
    "tags": []
   },
   "source": [
    "# Сохраняем модель"
   ]
  },
  {
   "cell_type": "code",
   "execution_count": null,
   "metadata": {
    "execution": {
     "iopub.execute_input": "2024-07-10T09:34:11.451080Z",
     "iopub.status.busy": "2024-07-10T09:34:11.449859Z",
     "iopub.status.idle": "2024-07-10T09:34:11.575199Z",
     "shell.execute_reply": "2024-07-10T09:34:11.573921Z",
     "shell.execute_reply.started": "2024-07-10T09:34:11.451031Z"
    },
    "executionInfo": {
     "elapsed": 245,
     "status": "ok",
     "timestamp": 1720456261649,
     "user": {
      "displayName": "София Совкова",
      "userId": "14493279662693772136"
     },
     "user_tz": -180
    },
    "id": "75c93460",
    "is_executing": true,
    "outputId": "a64ae65d-41c7-4156-b7ce-209ca65019a5",
    "papermill": {
     "duration": 0.191236,
     "end_time": "2024-06-21T13:12:39.444431",
     "exception": false,
     "start_time": "2024-06-21T13:12:39.253195",
     "status": "completed"
    },
    "tags": [],
    "trusted": true
   },
   "outputs": [],
   "source": [
    "import pickle\n",
    "\n",
    "with open('tfidf_tokenizer.pkl', 'wb') as f:\n",
    "    pickle.dump(tfidf_vectorizer, f)\n",
    "\n",
    "model.save('text_classification_model.h5')\n"
   ]
  },
  {
   "cell_type": "markdown",
   "metadata": {
    "id": "a553cdd9",
    "papermill": {
     "duration": 0.099571,
     "end_time": "2024-06-21T13:12:39.645233",
     "exception": false,
     "start_time": "2024-06-21T13:12:39.545662",
     "status": "completed"
    },
    "tags": []
   },
   "source": [
    "# Usage Code"
   ]
  },
  {
   "cell_type": "code",
   "execution_count": null,
   "metadata": {
    "execution": {
     "iopub.execute_input": "2024-07-10T10:27:45.997281Z",
     "iopub.status.busy": "2024-07-10T10:27:45.996774Z",
     "iopub.status.idle": "2024-07-10T10:27:46.116076Z",
     "shell.execute_reply": "2024-07-10T10:27:46.114994Z",
     "shell.execute_reply.started": "2024-07-10T10:27:45.997245Z"
    },
    "executionInfo": {
     "elapsed": 277,
     "status": "ok",
     "timestamp": 1720456271489,
     "user": {
      "displayName": "София Совкова",
      "userId": "14493279662693772136"
     },
     "user_tz": -180
    },
    "id": "3822b4d5",
    "is_executing": true,
    "papermill": {
     "duration": 0.110597,
     "end_time": "2024-06-21T13:12:39.855833",
     "exception": false,
     "start_time": "2024-06-21T13:12:39.745236",
     "status": "completed"
    },
    "tags": [],
    "trusted": true
   },
   "outputs": [],
   "source": [
    "import pickle\n",
    "from tensorflow.keras.models import load_model\n",
    "\n",
    "# Загружаем токенизатор\n",
    "with open('tfidf_tokenizer.pkl', 'rb') as f:\n",
    "    tfidf_tokenizer = pickle.load(f)\n",
    "\n",
    "# Загружаем модель\n",
    "loaded_model = load_model('text_classification_model.h5')\n",
    "\n",
    "# Функция предсказания \n",
    "def predict_outcome(text):\n",
    "    # Предобработка текста с использованием загруженного токенизатора\n",
    "    text_features = tfidf_tokenizer.transform([text])\n",
    "    \n",
    "    # Преобразование текстовых признаков в плотный формат numpy массива\n",
    "    text_features_dense = text_features.toarray()\n",
    "\n",
    "    predictions = loaded_model.predict(text_features_dense)\n",
    "    return predictions[0][0]"
   ]
  },
  {
   "cell_type": "code",
   "execution_count": null,
   "metadata": {
    "execution": {
     "iopub.execute_input": "2024-07-10T10:27:49.324866Z",
     "iopub.status.busy": "2024-07-10T10:27:49.324361Z",
     "iopub.status.idle": "2024-07-10T10:27:49.477510Z",
     "shell.execute_reply": "2024-07-10T10:27:49.475955Z",
     "shell.execute_reply.started": "2024-07-10T10:27:49.324827Z"
    },
    "executionInfo": {
     "elapsed": 297,
     "status": "ok",
     "timestamp": 1720456322955,
     "user": {
      "displayName": "София Совкова",
      "userId": "14493279662693772136"
     },
     "user_tz": -180
    },
    "id": "rCwAu7oLoUao",
    "is_executing": true,
    "outputId": "3c1a3d6c-42d9-40c2-9a04-f1c73af5deca",
    "trusted": true
   },
   "outputs": [],
   "source": [
    "input_text = '''\n",
    "Some people think that the only way to learn foreign languages is to start very early. Others believe that foreign languages can be learned at any age. In this essay I will address pluses and mines of learning foreign languages at an early age.\n",
    " On the one hand, since 4 years children talk with their parents very well. And if in family all speak on 2 languages, child will can speak on 2 languages too. It is the reason, because some people think that studying many languages is simply only at an early age. When I was younger my family often travel to different countries, when people speak in only English. And I learning to speak English to them. It was easy for me.\n",
    " On the other hand, many people move to another country. For them they must to learn another language. And they do it. That is an example of how people can learn another language at any age. I think, if people a person really wants to learn something, he can do it.\n",
    " In conclusion, somebody think that peoples can learn foreign languages at only an early age, but another think it can be done an any age. I think that everybody is right. All people can to learn foreign languages, but maybe it is easier to do it an early age.\n",
    "'''\n",
    "\n",
    "\n",
    "predicted_label = predict_outcome(input_text)\n",
    "print(\"Predicted Label:\", \"{:.20f}\".format(predicted_label))"
   ]
  },
  {
   "cell_type": "markdown",
   "metadata": {},
   "source": [
    "# Делаем предсказание на тестовых данных"
   ]
  },
  {
   "cell_type": "code",
   "execution_count": null,
   "metadata": {
    "execution": {
     "iopub.execute_input": "2024-07-10T10:28:02.650932Z",
     "iopub.status.busy": "2024-07-10T10:28:02.650221Z",
     "iopub.status.idle": "2024-07-10T10:28:02.667660Z",
     "shell.execute_reply": "2024-07-10T10:28:02.665912Z",
     "shell.execute_reply.started": "2024-07-10T10:28:02.650881Z"
    },
    "is_executing": true,
    "trusted": true
   },
   "outputs": [],
   "source": [
    "test = pd.read_csv('/kaggle/input/llm-detect-ai-generated-text/test_essays.csv')\n",
    "test"
   ]
  },
  {
   "cell_type": "code",
   "execution_count": null,
   "metadata": {
    "execution": {
     "iopub.execute_input": "2024-07-10T10:28:05.655665Z",
     "iopub.status.busy": "2024-07-10T10:28:05.655259Z",
     "iopub.status.idle": "2024-07-10T10:28:05.900794Z",
     "shell.execute_reply": "2024-07-10T10:28:05.899434Z",
     "shell.execute_reply.started": "2024-07-10T10:28:05.655633Z"
    },
    "is_executing": true,
    "trusted": true
   },
   "outputs": [],
   "source": [
    "test['generated'] = test['text'].apply(predict_outcome)\n",
    "submission = test[['id', 'generated']]\n",
    "submission"
   ]
  },
  {
   "cell_type": "code",
   "execution_count": null,
   "metadata": {
    "execution": {
     "iopub.execute_input": "2024-07-10T10:08:31.771942Z",
     "iopub.status.busy": "2024-07-10T10:08:31.771464Z",
     "iopub.status.idle": "2024-07-10T10:08:31.781526Z",
     "shell.execute_reply": "2024-07-10T10:08:31.779132Z",
     "shell.execute_reply.started": "2024-07-10T10:08:31.771910Z"
    },
    "is_executing": true,
    "trusted": true
   },
   "outputs": [],
   "source": [
    "submission.to_csv('submission.csv', index=False)"
   ]
  }
 ],
 "metadata": {
  "colab": {
   "provenance": []
  },
  "kaggle": {
   "accelerator": "none",
   "dataSources": [
    {
     "databundleVersionId": 7516023,
     "sourceId": 61542,
     "sourceType": "competition"
    },
    {
     "datasetId": 4005256,
     "sourceId": 6977472,
     "sourceType": "datasetVersion"
    },
    {
     "datasetId": 4287904,
     "sourceId": 7378735,
     "sourceType": "datasetVersion"
    }
   ],
   "dockerImageVersionId": 30732,
   "isGpuEnabled": false,
   "isInternetEnabled": false,
   "language": "python",
   "sourceType": "notebook"
  },
  "kernelspec": {
   "display_name": "Python 3",
   "language": "python",
   "name": "python3"
  },
  "language_info": {
   "codemirror_mode": {
    "name": "ipython",
    "version": 3
   },
   "file_extension": ".py",
   "mimetype": "text/x-python",
   "name": "python",
   "nbconvert_exporter": "python",
   "pygments_lexer": "ipython3",
   "version": "3.11.4"
  },
  "papermill": {
   "default_parameters": {},
   "duration": 166.727897,
   "end_time": "2024-06-21T13:12:41.880271",
   "environment_variables": {},
   "exception": null,
   "input_path": "__notebook__.ipynb",
   "output_path": "__notebook__.ipynb",
   "parameters": {},
   "start_time": "2024-06-21T13:09:55.152374",
   "version": "2.5.0"
  }
 },
 "nbformat": 4,
 "nbformat_minor": 4
}
