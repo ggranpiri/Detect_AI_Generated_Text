{
 "cells": [
  {
   "cell_type": "markdown",
   "id": "ea949335",
   "metadata": {
    "id": "14aff891",
    "papermill": {
     "duration": 0.009934,
     "end_time": "2024-07-10T11:07:11.308295",
     "exception": false,
     "start_time": "2024-07-10T11:07:11.298361",
     "status": "completed"
    },
    "tags": []
   },
   "source": [
    "# Detection of Large-Language Model (LLM) Generated Text"
   ]
  },
  {
   "cell_type": "markdown",
   "id": "ebb24aaa",
   "metadata": {
    "id": "c28f4be4",
    "papermill": {
     "duration": 0.00932,
     "end_time": "2024-07-10T11:07:11.327193",
     "exception": false,
     "start_time": "2024-07-10T11:07:11.317873",
     "status": "completed"
    },
    "tags": []
   },
   "source": [
    "# Импорт библиотек"
   ]
  },
  {
   "cell_type": "code",
   "execution_count": 1,
   "id": "5e089109",
   "metadata": {
    "execution": {
     "iopub.execute_input": "2024-07-10T11:07:11.347993Z",
     "iopub.status.busy": "2024-07-10T11:07:11.347538Z",
     "iopub.status.idle": "2024-07-10T11:07:26.439872Z",
     "shell.execute_reply": "2024-07-10T11:07:26.438692Z"
    },
    "papermill": {
     "duration": 15.106072,
     "end_time": "2024-07-10T11:07:26.442659",
     "exception": false,
     "start_time": "2024-07-10T11:07:11.336587",
     "status": "completed"
    },
    "tags": []
   },
   "outputs": [
    {
     "name": "stderr",
     "output_type": "stream",
     "text": [
      "2024-07-10 11:07:14.053724: E external/local_xla/xla/stream_executor/cuda/cuda_dnn.cc:9261] Unable to register cuDNN factory: Attempting to register factory for plugin cuDNN when one has already been registered\n",
      "2024-07-10 11:07:14.053861: E external/local_xla/xla/stream_executor/cuda/cuda_fft.cc:607] Unable to register cuFFT factory: Attempting to register factory for plugin cuFFT when one has already been registered\n",
      "2024-07-10 11:07:14.199699: E external/local_xla/xla/stream_executor/cuda/cuda_blas.cc:1515] Unable to register cuBLAS factory: Attempting to register factory for plugin cuBLAS when one has already been registered\n"
     ]
    }
   ],
   "source": [
    "import pandas as pd\n",
    "import numpy as np\n",
    "\n",
    "from tensorflow.keras.models import Sequential\n",
    "from tensorflow.keras.layers import Dense, Dropout\n",
    "from tensorflow.keras.optimizers import Adam\n",
    "import tensorflow as tf\n",
    "\n",
    "\n",
    "from sklearn.feature_extraction.text import TfidfVectorizer\n",
    "from sklearn.model_selection import train_test_split\n",
    "from sklearn.preprocessing import LabelEncoder\n",
    "from sklearn.metrics import classification_report, roc_auc_score, confusion_matrix\n",
    "\n",
    "import matplotlib.pyplot as plt\n",
    "import seaborn as sns\n"
   ]
  },
  {
   "cell_type": "markdown",
   "id": "907e40f7",
   "metadata": {
    "id": "27ad31d6",
    "papermill": {
     "duration": 0.009661,
     "end_time": "2024-07-10T11:07:26.462194",
     "exception": false,
     "start_time": "2024-07-10T11:07:26.452533",
     "status": "completed"
    },
    "tags": []
   },
   "source": [
    "# Загружаем и предобрабртываем данные"
   ]
  },
  {
   "cell_type": "code",
   "execution_count": 2,
   "id": "0c8eb68e",
   "metadata": {
    "execution": {
     "iopub.execute_input": "2024-07-10T11:07:26.483470Z",
     "iopub.status.busy": "2024-07-10T11:07:26.482724Z",
     "iopub.status.idle": "2024-07-10T11:07:28.973956Z",
     "shell.execute_reply": "2024-07-10T11:07:28.972782Z"
    },
    "executionInfo": {
     "elapsed": 2002,
     "status": "ok",
     "timestamp": 1720455844415,
     "user": {
      "displayName": "София Совкова",
      "userId": "14493279662693772136"
     },
     "user_tz": -180
    },
    "id": "94c38e0e",
    "papermill": {
     "duration": 2.505207,
     "end_time": "2024-07-10T11:07:28.976951",
     "exception": false,
     "start_time": "2024-07-10T11:07:26.471744",
     "status": "completed"
    },
    "tags": []
   },
   "outputs": [],
   "source": [
    "data1=pd.read_csv('/kaggle/input/daigt-v2-train-dataset/train_v2_drcat_02.csv')\n",
    "data2=pd.read_csv('/kaggle/input/llm-detect-ai-generated-text/train_essays.csv')"
   ]
  },
  {
   "cell_type": "code",
   "execution_count": 3,
   "id": "0d19f2c1",
   "metadata": {
    "execution": {
     "iopub.execute_input": "2024-07-10T11:07:28.998527Z",
     "iopub.status.busy": "2024-07-10T11:07:28.998098Z",
     "iopub.status.idle": "2024-07-10T11:07:29.026870Z",
     "shell.execute_reply": "2024-07-10T11:07:29.025681Z"
    },
    "papermill": {
     "duration": 0.042434,
     "end_time": "2024-07-10T11:07:29.029464",
     "exception": false,
     "start_time": "2024-07-10T11:07:28.987030",
     "status": "completed"
    },
    "tags": []
   },
   "outputs": [
    {
     "name": "stdout",
     "output_type": "stream",
     "text": [
      "                                                    text  label\n",
      "0      Phones\\n\\nModern humans today are always on th...      0\n",
      "1      This essay will explain if drivers should or s...      0\n",
      "2      Driving while the use of cellular devices\\n\\nT...      0\n",
      "3      Phones & Driving\\n\\nDrivers should not be able...      0\n",
      "4      Cell Phone Operation While Driving\\n\\nThe abil...      0\n",
      "...                                                  ...    ...\n",
      "46241  There has been a fuss about the Elector Colleg...      0\n",
      "46242  Limiting car usage has many advantages. Such a...      0\n",
      "46243  There's a new trend that has been developing f...      0\n",
      "46244  As we all know cars are a big part of our soci...      0\n",
      "46245  Cars have been around since the 1800's and hav...      0\n",
      "\n",
      "[46246 rows x 2 columns]\n"
     ]
    }
   ],
   "source": [
    "train1_selected = data1[['text', 'label']].copy()\n",
    "\n",
    "# Выбор необходимых столбцов из датасета train_1 и переименование 'generated' для соответствия столбцу 'label'\n",
    "train2_selected = data2[['text', 'generated']].rename(columns={'generated': 'label'}).copy()\n",
    "\n",
    "# Объединение выбранных столбцов из обоих датасетов\n",
    "data = pd.concat([train1_selected, train2_selected], ignore_index=True)\n",
    "\n",
    "# Отображение объединенных данных\n",
    "print(data)\n"
   ]
  },
  {
   "cell_type": "code",
   "execution_count": 4,
   "id": "1fd14c21",
   "metadata": {
    "execution": {
     "iopub.execute_input": "2024-07-10T11:07:29.050400Z",
     "iopub.status.busy": "2024-07-10T11:07:29.050005Z",
     "iopub.status.idle": "2024-07-10T11:07:29.377557Z",
     "shell.execute_reply": "2024-07-10T11:07:29.376396Z"
    },
    "executionInfo": {
     "elapsed": 538,
     "status": "ok",
     "timestamp": 1720455887090,
     "user": {
      "displayName": "София Совкова",
      "userId": "14493279662693772136"
     },
     "user_tz": -180
    },
    "id": "a75b0cdd",
    "papermill": {
     "duration": 0.341001,
     "end_time": "2024-07-10T11:07:29.380299",
     "exception": false,
     "start_time": "2024-07-10T11:07:29.039298",
     "status": "completed"
    },
    "tags": []
   },
   "outputs": [],
   "source": [
    "# Удаляем дупликаты и нулевые значения\n",
    "data.drop_duplicates(inplace=True)\n",
    "data.dropna(inplace=True)"
   ]
  },
  {
   "cell_type": "markdown",
   "source": [
    "# Анализ данных в датасетах"
   ],
   "metadata": {
    "collapsed": false
   },
   "id": "f9a8e1dc4fe34673"
  },
  {
   "cell_type": "code",
   "outputs": [],
   "source": [
    "data1_counts = data1['label'].value_counts().reset_index()\n",
    "data2_counts = data2['generated'].value_counts().reset_index()\n",
    "index = np.arange(2)\n",
    "\n",
    "v1 = [data1_counts['count'][0], data1_counts['count'][1]]\n",
    "v2 = [data2_counts['count'][0], data2_counts['count'][1]]\n",
    "\n",
    "bw = 0.3\n",
    "plt.title('Распределение текстов по методу написания')\n",
    "bars1 = plt.bar(index, v1, bw, color='#FF9999', label='Дополнительные данные')\n",
    "bars2 = plt.bar(index+bw, v2, bw, color='#FFCC99', label='Данные с соревнования')\n",
    "plt.xticks(index + 0.5 * bw, ['Сгенерировано ИИ', 'Написано человеком'])\n",
    "plt.legend()  # Добавление легенды\n",
    "\n",
    "# Добавление значений на столбцы\n",
    "for bar in bars1:\n",
    "    height = bar.get_height()\n",
    "    plt.text(bar.get_x() + bar.get_width() / 2.0, height, '%d' % int(height), ha='center', va='bottom')\n",
    "\n",
    "for bar in bars2:\n",
    "    height = bar.get_height()\n",
    "    plt.text(bar.get_x() + bar.get_width() / 2.0, height, '%d' % int(height), ha='center', va='bottom')\n",
    "\n",
    "plt.show()"
   ],
   "metadata": {
    "collapsed": false
   },
   "id": "7dd4d447833437ef"
  },
  {
   "cell_type": "markdown",
   "id": "71381a52",
   "metadata": {
    "id": "d090294f",
    "papermill": {
     "duration": 0.009305,
     "end_time": "2024-07-10T11:07:29.399404",
     "exception": false,
     "start_time": "2024-07-10T11:07:29.390099",
     "status": "completed"
    },
    "tags": []
   },
   "source": [
    "# Векторизуем текст"
   ]
  },
  {
   "cell_type": "code",
   "execution_count": 5,
   "id": "0b6e93fa",
   "metadata": {
    "execution": {
     "iopub.execute_input": "2024-07-10T11:07:29.420952Z",
     "iopub.status.busy": "2024-07-10T11:07:29.420528Z",
     "iopub.status.idle": "2024-07-10T11:07:51.593916Z",
     "shell.execute_reply": "2024-07-10T11:07:51.592798Z"
    },
    "executionInfo": {
     "elapsed": 21743,
     "status": "ok",
     "timestamp": 1720455933221,
     "user": {
      "displayName": "София Совкова",
      "userId": "14493279662693772136"
     },
     "user_tz": -180
    },
    "id": "7318984b",
    "outputId": "155d5d29-8d86-456c-e289-4234c37b3d7c",
    "papermill": {
     "duration": 22.187708,
     "end_time": "2024-07-10T11:07:51.596532",
     "exception": false,
     "start_time": "2024-07-10T11:07:29.408824",
     "status": "completed"
    },
    "tags": []
   },
   "outputs": [
    {
     "name": "stdout",
     "output_type": "stream",
     "text": [
      "    00       000   10  100   11  114  118   12   13   14  ...      your  \\\n",
      "0  0.0  0.000000  0.0  0.0  0.0  0.0  0.0  0.0  0.0  0.0  ...  0.000000   \n",
      "1  0.0  0.000000  0.0  0.0  0.0  0.0  0.0  0.0  0.0  0.0  ...  0.193019   \n",
      "2  0.0  0.000000  0.0  0.0  0.0  0.0  0.0  0.0  0.0  0.0  ...  0.000000   \n",
      "3  0.0  0.060816  0.0  0.0  0.0  0.0  0.0  0.0  0.0  0.0  ...  0.000000   \n",
      "4  0.0  0.000000  0.0  0.0  0.0  0.0  0.0  0.0  0.0  0.0  ...  0.000000   \n",
      "\n",
      "   yours  yourself  youth  youtube  zip  zone  zones  zoos  zygomatic  \n",
      "0    0.0       0.0    0.0      0.0  0.0   0.0    0.0   0.0        0.0  \n",
      "1    0.0       0.0    0.0      0.0  0.0   0.0    0.0   0.0        0.0  \n",
      "2    0.0       0.0    0.0      0.0  0.0   0.0    0.0   0.0        0.0  \n",
      "3    0.0       0.0    0.0      0.0  0.0   0.0    0.0   0.0        0.0  \n",
      "4    0.0       0.0    0.0      0.0  0.0   0.0    0.0   0.0        0.0  \n",
      "\n",
      "[5 rows x 5000 columns]\n"
     ]
    }
   ],
   "source": [
    "from sklearn.feature_extraction.text import TfidfVectorizer\n",
    "\n",
    "# Инициализация TF-IDF векторизатора\n",
    "tfidf_vectorizer = TfidfVectorizer(max_features=5000)  # Вы можете настроить max_features по мере необходимости\n",
    "\n",
    "# Токенизация и создание TF-IDF векторов для столбца 'text' объединенного набора данных\n",
    "tfidf_vectors = tfidf_vectorizer.fit_transform(data['text'])\n",
    "\n",
    "# Преобразование TF-IDF векторов в DataFrame для удобного анализа\n",
    "tfidf_df = pd.DataFrame(tfidf_vectors.toarray(), columns=tfidf_vectorizer.get_feature_names_out())\n",
    "\n",
    "# Отображение DataFrame с TF-IDF\n",
    "print(tfidf_df.head())"
   ]
  },
  {
   "cell_type": "markdown",
   "id": "1fb26911",
   "metadata": {
    "id": "b46ee4cf",
    "papermill": {
     "duration": 0.009672,
     "end_time": "2024-07-10T11:07:51.616163",
     "exception": false,
     "start_time": "2024-07-10T11:07:51.606491",
     "status": "completed"
    },
    "tags": []
   },
   "source": [
    "# Делим датасет на тренировочные и тестовые данные"
   ]
  },
  {
   "cell_type": "code",
   "execution_count": 6,
   "id": "e6a5bbaf",
   "metadata": {
    "execution": {
     "iopub.execute_input": "2024-07-10T11:07:51.637594Z",
     "iopub.status.busy": "2024-07-10T11:07:51.637193Z",
     "iopub.status.idle": "2024-07-10T11:07:52.363563Z",
     "shell.execute_reply": "2024-07-10T11:07:52.362580Z"
    },
    "executionInfo": {
     "elapsed": 1298,
     "status": "ok",
     "timestamp": 1720455950569,
     "user": {
      "displayName": "София Совкова",
      "userId": "14493279662693772136"
     },
     "user_tz": -180
    },
    "id": "1760349c",
    "papermill": {
     "duration": 0.739994,
     "end_time": "2024-07-10T11:07:52.366200",
     "exception": false,
     "start_time": "2024-07-10T11:07:51.626206",
     "status": "completed"
    },
    "tags": []
   },
   "outputs": [],
   "source": [
    "X = tfidf_df.values \n",
    "y = data['label'].values\n",
    "\n",
    "X_train, X_test, y_train, y_test = train_test_split(X, y, test_size=0.2, random_state=42)"
   ]
  },
  {
   "cell_type": "markdown",
   "id": "903465c1",
   "metadata": {
    "id": "ca3694d5",
    "papermill": {
     "duration": 0.009646,
     "end_time": "2024-07-10T11:07:52.385602",
     "exception": false,
     "start_time": "2024-07-10T11:07:52.375956",
     "status": "completed"
    },
    "tags": []
   },
   "source": [
    "# Кодируем"
   ]
  },
  {
   "cell_type": "code",
   "execution_count": 7,
   "id": "9595ae45",
   "metadata": {
    "execution": {
     "iopub.execute_input": "2024-07-10T11:07:52.406585Z",
     "iopub.status.busy": "2024-07-10T11:07:52.406168Z",
     "iopub.status.idle": "2024-07-10T11:07:52.415372Z",
     "shell.execute_reply": "2024-07-10T11:07:52.414346Z"
    },
    "executionInfo": {
     "elapsed": 244,
     "status": "ok",
     "timestamp": 1720455972592,
     "user": {
      "displayName": "София Совкова",
      "userId": "14493279662693772136"
     },
     "user_tz": -180
    },
    "id": "138c0ca2",
    "papermill": {
     "duration": 0.022539,
     "end_time": "2024-07-10T11:07:52.417780",
     "exception": false,
     "start_time": "2024-07-10T11:07:52.395241",
     "status": "completed"
    },
    "tags": []
   },
   "outputs": [],
   "source": [
    "# Кодирование целевых меток (0 и 1) с использованием LabelEncoder\n",
    "label_encoder = LabelEncoder()\n",
    "y_train_encoded = label_encoder.fit_transform(y_train)\n",
    "y_test_encoded = label_encoder.transform(y_test)"
   ]
  },
  {
   "cell_type": "markdown",
   "id": "b73f6c8f",
   "metadata": {
    "id": "926bf85e",
    "papermill": {
     "duration": 0.009732,
     "end_time": "2024-07-10T11:07:52.437962",
     "exception": false,
     "start_time": "2024-07-10T11:07:52.428230",
     "status": "completed"
    },
    "tags": []
   },
   "source": [
    "# Архитектура нейросети"
   ]
  },
  {
   "cell_type": "code",
   "execution_count": 8,
   "id": "8c3a1ac8",
   "metadata": {
    "execution": {
     "iopub.execute_input": "2024-07-10T11:07:52.459698Z",
     "iopub.status.busy": "2024-07-10T11:07:52.459289Z",
     "iopub.status.idle": "2024-07-10T11:07:52.569385Z",
     "shell.execute_reply": "2024-07-10T11:07:52.568264Z"
    },
    "executionInfo": {
     "elapsed": 254,
     "status": "ok",
     "timestamp": 1720455996185,
     "user": {
      "displayName": "София Совкова",
      "userId": "14493279662693772136"
     },
     "user_tz": -180
    },
    "id": "303bb1b2",
    "papermill": {
     "duration": 0.124273,
     "end_time": "2024-07-10T11:07:52.572066",
     "exception": false,
     "start_time": "2024-07-10T11:07:52.447793",
     "status": "completed"
    },
    "tags": []
   },
   "outputs": [
    {
     "name": "stderr",
     "output_type": "stream",
     "text": [
      "/opt/conda/lib/python3.10/site-packages/keras/src/layers/core/dense.py:87: UserWarning: Do not pass an `input_shape`/`input_dim` argument to a layer. When using Sequential models, prefer using an `Input(shape)` object as the first layer in the model instead.\n",
      "  super().__init__(activity_regularizer=activity_regularizer, **kwargs)\n"
     ]
    }
   ],
   "source": [
    "# Создаем модель для нейронной сети\n",
    "model = Sequential([\n",
    "    Dense(128, activation='relu', input_shape=(X_train.shape[1],)),\n",
    "    Dropout(0.3),\n",
    "    Dense(64, activation='relu'),\n",
    "    Dropout(0.3),\n",
    "    Dense(1, activation='sigmoid')\n",
    "])\n",
    "\n",
    "model.compile(optimizer=Adam(learning_rate=0.001), loss='binary_crossentropy', metrics=['accuracy'])\n"
   ]
  },
  {
   "cell_type": "markdown",
   "id": "5e2a4934",
   "metadata": {
    "id": "8a7fb85e",
    "papermill": {
     "duration": 0.009789,
     "end_time": "2024-07-10T11:07:52.591827",
     "exception": false,
     "start_time": "2024-07-10T11:07:52.582038",
     "status": "completed"
    },
    "tags": []
   },
   "source": [
    "# Обучение"
   ]
  },
  {
   "cell_type": "code",
   "execution_count": 9,
   "id": "0166f83f",
   "metadata": {
    "execution": {
     "iopub.execute_input": "2024-07-10T11:07:52.613658Z",
     "iopub.status.busy": "2024-07-10T11:07:52.612827Z",
     "iopub.status.idle": "2024-07-10T11:09:11.356999Z",
     "shell.execute_reply": "2024-07-10T11:09:11.355757Z"
    },
    "executionInfo": {
     "elapsed": 145172,
     "status": "ok",
     "timestamp": 1720456148150,
     "user": {
      "displayName": "София Совкова",
      "userId": "14493279662693772136"
     },
     "user_tz": -180
    },
    "id": "2a1062e6",
    "outputId": "0f1635e5-b0c0-412d-e70f-de610cb6fb8f",
    "papermill": {
     "duration": 78.757932,
     "end_time": "2024-07-10T11:09:11.359694",
     "exception": false,
     "start_time": "2024-07-10T11:07:52.601762",
     "status": "completed"
    },
    "tags": []
   },
   "outputs": [
    {
     "name": "stdout",
     "output_type": "stream",
     "text": [
      "Epoch 1/10\n",
      "\u001B[1m1122/1122\u001B[0m \u001B[32m━━━━━━━━━━━━━━━━━━━━\u001B[0m\u001B[37m\u001B[0m \u001B[1m9s\u001B[0m 7ms/step - accuracy: 0.9384 - loss: 0.1343 - val_accuracy: 0.9949 - val_loss: 0.0166\n",
      "Epoch 2/10\n",
      "\u001B[1m1122/1122\u001B[0m \u001B[32m━━━━━━━━━━━━━━━━━━━━\u001B[0m\u001B[37m\u001B[0m \u001B[1m7s\u001B[0m 6ms/step - accuracy: 0.9984 - loss: 0.0060 - val_accuracy: 0.9942 - val_loss: 0.0198\n",
      "Epoch 3/10\n",
      "\u001B[1m1122/1122\u001B[0m \u001B[32m━━━━━━━━━━━━━━━━━━━━\u001B[0m\u001B[37m\u001B[0m \u001B[1m7s\u001B[0m 6ms/step - accuracy: 0.9990 - loss: 0.0032 - val_accuracy: 0.9957 - val_loss: 0.0198\n",
      "Epoch 4/10\n",
      "\u001B[1m1122/1122\u001B[0m \u001B[32m━━━━━━━━━━━━━━━━━━━━\u001B[0m\u001B[37m\u001B[0m \u001B[1m7s\u001B[0m 6ms/step - accuracy: 0.9995 - loss: 0.0012 - val_accuracy: 0.9950 - val_loss: 0.0281\n",
      "Epoch 5/10\n",
      "\u001B[1m1122/1122\u001B[0m \u001B[32m━━━━━━━━━━━━━━━━━━━━\u001B[0m\u001B[37m\u001B[0m \u001B[1m7s\u001B[0m 6ms/step - accuracy: 0.9998 - loss: 8.5950e-04 - val_accuracy: 0.9947 - val_loss: 0.0275\n",
      "Epoch 6/10\n",
      "\u001B[1m1122/1122\u001B[0m \u001B[32m━━━━━━━━━━━━━━━━━━━━\u001B[0m\u001B[37m\u001B[0m \u001B[1m7s\u001B[0m 6ms/step - accuracy: 0.9995 - loss: 0.0016 - val_accuracy: 0.9947 - val_loss: 0.0263\n",
      "Epoch 7/10\n",
      "\u001B[1m1122/1122\u001B[0m \u001B[32m━━━━━━━━━━━━━━━━━━━━\u001B[0m\u001B[37m\u001B[0m \u001B[1m10s\u001B[0m 6ms/step - accuracy: 0.9995 - loss: 0.0015 - val_accuracy: 0.9938 - val_loss: 0.0306\n",
      "Epoch 8/10\n",
      "\u001B[1m1122/1122\u001B[0m \u001B[32m━━━━━━━━━━━━━━━━━━━━\u001B[0m\u001B[37m\u001B[0m \u001B[1m7s\u001B[0m 6ms/step - accuracy: 0.9997 - loss: 5.4190e-04 - val_accuracy: 0.9951 - val_loss: 0.0342\n",
      "Epoch 9/10\n",
      "\u001B[1m1122/1122\u001B[0m \u001B[32m━━━━━━━━━━━━━━━━━━━━\u001B[0m\u001B[37m\u001B[0m \u001B[1m7s\u001B[0m 7ms/step - accuracy: 0.9999 - loss: 3.0860e-04 - val_accuracy: 0.9939 - val_loss: 0.0346\n",
      "Epoch 10/10\n",
      "\u001B[1m1122/1122\u001B[0m \u001B[32m━━━━━━━━━━━━━━━━━━━━\u001B[0m\u001B[37m\u001B[0m \u001B[1m7s\u001B[0m 6ms/step - accuracy: 1.0000 - loss: 9.8690e-05 - val_accuracy: 0.9951 - val_loss: 0.0368\n"
     ]
    }
   ],
   "source": [
    "history = model.fit(X_train, y_train_encoded, epochs=10, batch_size=32, validation_data=(X_test, y_test_encoded), verbose=1)"
   ]
  },
  {
   "cell_type": "code",
   "execution_count": 10,
   "id": "cae223cc",
   "metadata": {
    "execution": {
     "iopub.execute_input": "2024-07-10T11:09:11.623433Z",
     "iopub.status.busy": "2024-07-10T11:09:11.622376Z",
     "iopub.status.idle": "2024-07-10T11:09:12.583535Z",
     "shell.execute_reply": "2024-07-10T11:09:12.582039Z"
    },
    "executionInfo": {
     "elapsed": 1715,
     "status": "ok",
     "timestamp": 1720456158954,
     "user": {
      "displayName": "София Совкова",
      "userId": "14493279662693772136"
     },
     "user_tz": -180
    },
    "id": "5ca9a61e",
    "outputId": "6e3e3b8e-b26f-45c7-8c53-4e12083850df",
    "papermill": {
     "duration": 1.097082,
     "end_time": "2024-07-10T11:09:12.586026",
     "exception": false,
     "start_time": "2024-07-10T11:09:11.488944",
     "status": "completed"
    },
    "tags": []
   },
   "outputs": [
    {
     "name": "stdout",
     "output_type": "stream",
     "text": [
      "\u001B[1m281/281\u001B[0m \u001B[32m━━━━━━━━━━━━━━━━━━━━\u001B[0m\u001B[37m\u001B[0m \u001B[1m1s\u001B[0m 2ms/step - accuracy: 0.9951 - loss: 0.0444\n",
      "Test Accuracy: 0.9951\n"
     ]
    }
   ],
   "source": [
    "# Точность на тестовых данных\n",
    "test_loss, test_accuracy = model.evaluate(X_test, y_test_encoded)\n",
    "print(f'Test Accuracy: {test_accuracy:.4f}')"
   ]
  },
  {
   "cell_type": "markdown",
   "id": "9f17a64c",
   "metadata": {
    "id": "99e82fa0",
    "papermill": {
     "duration": 0.130462,
     "end_time": "2024-07-10T11:09:12.907534",
     "exception": false,
     "start_time": "2024-07-10T11:09:12.777072",
     "status": "completed"
    },
    "tags": []
   },
   "source": [
    "# Сохраняем модель"
   ]
  },
  {
   "cell_type": "code",
   "execution_count": 11,
   "id": "0f483115",
   "metadata": {
    "execution": {
     "iopub.execute_input": "2024-07-10T11:09:13.172542Z",
     "iopub.status.busy": "2024-07-10T11:09:13.172103Z",
     "iopub.status.idle": "2024-07-10T11:09:13.261121Z",
     "shell.execute_reply": "2024-07-10T11:09:13.260093Z"
    },
    "executionInfo": {
     "elapsed": 245,
     "status": "ok",
     "timestamp": 1720456261649,
     "user": {
      "displayName": "София Совкова",
      "userId": "14493279662693772136"
     },
     "user_tz": -180
    },
    "id": "75c93460",
    "outputId": "a64ae65d-41c7-4156-b7ce-209ca65019a5",
    "papermill": {
     "duration": 0.224261,
     "end_time": "2024-07-10T11:09:13.263761",
     "exception": false,
     "start_time": "2024-07-10T11:09:13.039500",
     "status": "completed"
    },
    "tags": []
   },
   "outputs": [],
   "source": [
    "import pickle\n",
    "\n",
    "with open('tfidf_tokenizer.pkl', 'wb') as f:\n",
    "    pickle.dump(tfidf_vectorizer, f)\n",
    "\n",
    "model.save('text_classification_model.h5')\n"
   ]
  },
  {
   "cell_type": "markdown",
   "id": "66995fac",
   "metadata": {
    "id": "a553cdd9",
    "papermill": {
     "duration": 0.132857,
     "end_time": "2024-07-10T11:09:13.529487",
     "exception": false,
     "start_time": "2024-07-10T11:09:13.396630",
     "status": "completed"
    },
    "tags": []
   },
   "source": [
    "# Usage Code"
   ]
  },
  {
   "cell_type": "code",
   "execution_count": 12,
   "id": "91c75d5f",
   "metadata": {
    "execution": {
     "iopub.execute_input": "2024-07-10T11:09:13.795748Z",
     "iopub.status.busy": "2024-07-10T11:09:13.795330Z",
     "iopub.status.idle": "2024-07-10T11:09:13.894999Z",
     "shell.execute_reply": "2024-07-10T11:09:13.893999Z"
    },
    "executionInfo": {
     "elapsed": 277,
     "status": "ok",
     "timestamp": 1720456271489,
     "user": {
      "displayName": "София Совкова",
      "userId": "14493279662693772136"
     },
     "user_tz": -180
    },
    "id": "3822b4d5",
    "papermill": {
     "duration": 0.235447,
     "end_time": "2024-07-10T11:09:13.897737",
     "exception": false,
     "start_time": "2024-07-10T11:09:13.662290",
     "status": "completed"
    },
    "tags": []
   },
   "outputs": [],
   "source": [
    "import pickle\n",
    "from tensorflow.keras.models import load_model\n",
    "\n",
    "# Загружаем токенизатор\n",
    "with open('tfidf_tokenizer.pkl', 'rb') as f:\n",
    "    tfidf_tokenizer = pickle.load(f)\n",
    "\n",
    "# Загружаем модель\n",
    "loaded_model = load_model('text_classification_model.h5')\n",
    "\n",
    "# Функция предсказания \n",
    "def predict_outcome(text):\n",
    "    # Предобработка текста с использованием загруженного токенизатора\n",
    "    text_features = tfidf_tokenizer.transform([text])\n",
    "    \n",
    "    # Преобразование текстовых признаков в плотный формат numpy массива\n",
    "    text_features_dense = text_features.toarray()\n",
    "\n",
    "    predictions = loaded_model.predict(text_features_dense)\n",
    "    return predictions[0][0]"
   ]
  },
  {
   "cell_type": "code",
   "execution_count": 13,
   "id": "01553783",
   "metadata": {
    "execution": {
     "iopub.execute_input": "2024-07-10T11:09:14.164832Z",
     "iopub.status.busy": "2024-07-10T11:09:14.164430Z",
     "iopub.status.idle": "2024-07-10T11:09:14.278843Z",
     "shell.execute_reply": "2024-07-10T11:09:14.277598Z"
    },
    "executionInfo": {
     "elapsed": 297,
     "status": "ok",
     "timestamp": 1720456322955,
     "user": {
      "displayName": "София Совкова",
      "userId": "14493279662693772136"
     },
     "user_tz": -180
    },
    "id": "rCwAu7oLoUao",
    "outputId": "3c1a3d6c-42d9-40c2-9a04-f1c73af5deca",
    "papermill": {
     "duration": 0.250882,
     "end_time": "2024-07-10T11:09:14.281242",
     "exception": false,
     "start_time": "2024-07-10T11:09:14.030360",
     "status": "completed"
    },
    "tags": []
   },
   "outputs": [
    {
     "name": "stdout",
     "output_type": "stream",
     "text": [
      "\u001B[1m1/1\u001B[0m \u001B[32m━━━━━━━━━━━━━━━━━━━━\u001B[0m\u001B[37m\u001B[0m \u001B[1m0s\u001B[0m 56ms/step\n",
      "Predicted Label: 0.99464416503906250000\n"
     ]
    }
   ],
   "source": [
    "input_text = '''\n",
    "Some people think that the only way to learn foreign languages is to start very early. Others believe that foreign languages can be learned at any age. In this essay I will address pluses and mines of learning foreign languages at an early age.\n",
    " On the one hand, since 4 years children talk with their parents very well. And if in family all speak on 2 languages, child will can speak on 2 languages too. It is the reason, because some people think that studying many languages is simply only at an early age. When I was younger my family often travel to different countries, when people speak in only English. And I learning to speak English to them. It was easy for me.\n",
    " On the other hand, many people move to another country. For them they must to learn another language. And they do it. That is an example of how people can learn another language at any age. I think, if people a person really wants to learn something, he can do it.\n",
    " In conclusion, somebody think that peoples can learn foreign languages at only an early age, but another think it can be done an any age. I think that everybody is right. All people can to learn foreign languages, but maybe it is easier to do it an early age.\n",
    "'''\n",
    "\n",
    "\n",
    "predicted_label = predict_outcome(input_text)\n",
    "print(\"Predicted Label:\", \"{:.20f}\".format(predicted_label))"
   ]
  },
  {
   "cell_type": "markdown",
   "id": "cbd04ce0",
   "metadata": {
    "papermill": {
     "duration": 0.133089,
     "end_time": "2024-07-10T11:09:14.546288",
     "exception": false,
     "start_time": "2024-07-10T11:09:14.413199",
     "status": "completed"
    },
    "tags": []
   },
   "source": [
    "# Делаем предсказание на тестовых данных"
   ]
  },
  {
   "cell_type": "code",
   "execution_count": 14,
   "id": "702303db",
   "metadata": {
    "execution": {
     "iopub.execute_input": "2024-07-10T11:09:14.812266Z",
     "iopub.status.busy": "2024-07-10T11:09:14.811811Z",
     "iopub.status.idle": "2024-07-10T11:09:14.832663Z",
     "shell.execute_reply": "2024-07-10T11:09:14.831608Z"
    },
    "papermill": {
     "duration": 0.156313,
     "end_time": "2024-07-10T11:09:14.835158",
     "exception": false,
     "start_time": "2024-07-10T11:09:14.678845",
     "status": "completed"
    },
    "tags": []
   },
   "outputs": [
    {
     "data": {
      "text/html": [
       "<div>\n",
       "<style scoped>\n",
       "    .dataframe tbody tr th:only-of-type {\n",
       "        vertical-align: middle;\n",
       "    }\n",
       "\n",
       "    .dataframe tbody tr th {\n",
       "        vertical-align: top;\n",
       "    }\n",
       "\n",
       "    .dataframe thead th {\n",
       "        text-align: right;\n",
       "    }\n",
       "</style>\n",
       "<table border=\"1\" class=\"dataframe\">\n",
       "  <thead>\n",
       "    <tr style=\"text-align: right;\">\n",
       "      <th></th>\n",
       "      <th>id</th>\n",
       "      <th>prompt_id</th>\n",
       "      <th>text</th>\n",
       "    </tr>\n",
       "  </thead>\n",
       "  <tbody>\n",
       "    <tr>\n",
       "      <th>0</th>\n",
       "      <td>0000aaaa</td>\n",
       "      <td>2</td>\n",
       "      <td>Aaa bbb ccc.</td>\n",
       "    </tr>\n",
       "    <tr>\n",
       "      <th>1</th>\n",
       "      <td>1111bbbb</td>\n",
       "      <td>3</td>\n",
       "      <td>Bbb ccc ddd.</td>\n",
       "    </tr>\n",
       "    <tr>\n",
       "      <th>2</th>\n",
       "      <td>2222cccc</td>\n",
       "      <td>4</td>\n",
       "      <td>CCC ddd eee.</td>\n",
       "    </tr>\n",
       "  </tbody>\n",
       "</table>\n",
       "</div>"
      ],
      "text/plain": [
       "         id  prompt_id          text\n",
       "0  0000aaaa          2  Aaa bbb ccc.\n",
       "1  1111bbbb          3  Bbb ccc ddd.\n",
       "2  2222cccc          4  CCC ddd eee."
      ]
     },
     "execution_count": 14,
     "metadata": {},
     "output_type": "execute_result"
    }
   ],
   "source": [
    "test = pd.read_csv('/kaggle/input/llm-detect-ai-generated-text/test_essays.csv')\n",
    "test"
   ]
  },
  {
   "cell_type": "code",
   "execution_count": 15,
   "id": "ebab3e6e",
   "metadata": {
    "execution": {
     "iopub.execute_input": "2024-07-10T11:09:15.102682Z",
     "iopub.status.busy": "2024-07-10T11:09:15.101433Z",
     "iopub.status.idle": "2024-07-10T11:09:15.318576Z",
     "shell.execute_reply": "2024-07-10T11:09:15.317438Z"
    },
    "papermill": {
     "duration": 0.352722,
     "end_time": "2024-07-10T11:09:15.321066",
     "exception": false,
     "start_time": "2024-07-10T11:09:14.968344",
     "status": "completed"
    },
    "tags": []
   },
   "outputs": [
    {
     "name": "stdout",
     "output_type": "stream",
     "text": [
      "\u001B[1m1/1\u001B[0m \u001B[32m━━━━━━━━━━━━━━━━━━━━\u001B[0m\u001B[37m\u001B[0m \u001B[1m0s\u001B[0m 19ms/step\n",
      "\u001B[1m1/1\u001B[0m \u001B[32m━━━━━━━━━━━━━━━━━━━━\u001B[0m\u001B[37m\u001B[0m \u001B[1m0s\u001B[0m 19ms/step\n",
      "\u001B[1m1/1\u001B[0m \u001B[32m━━━━━━━━━━━━━━━━━━━━\u001B[0m\u001B[37m\u001B[0m \u001B[1m0s\u001B[0m 19ms/step\n"
     ]
    },
    {
     "data": {
      "text/html": [
       "<div>\n",
       "<style scoped>\n",
       "    .dataframe tbody tr th:only-of-type {\n",
       "        vertical-align: middle;\n",
       "    }\n",
       "\n",
       "    .dataframe tbody tr th {\n",
       "        vertical-align: top;\n",
       "    }\n",
       "\n",
       "    .dataframe thead th {\n",
       "        text-align: right;\n",
       "    }\n",
       "</style>\n",
       "<table border=\"1\" class=\"dataframe\">\n",
       "  <thead>\n",
       "    <tr style=\"text-align: right;\">\n",
       "      <th></th>\n",
       "      <th>id</th>\n",
       "      <th>generated</th>\n",
       "    </tr>\n",
       "  </thead>\n",
       "  <tbody>\n",
       "    <tr>\n",
       "      <th>0</th>\n",
       "      <td>0000aaaa</td>\n",
       "      <td>0.999614</td>\n",
       "    </tr>\n",
       "    <tr>\n",
       "      <th>1</th>\n",
       "      <td>1111bbbb</td>\n",
       "      <td>0.999614</td>\n",
       "    </tr>\n",
       "    <tr>\n",
       "      <th>2</th>\n",
       "      <td>2222cccc</td>\n",
       "      <td>0.999614</td>\n",
       "    </tr>\n",
       "  </tbody>\n",
       "</table>\n",
       "</div>"
      ],
      "text/plain": [
       "         id  generated\n",
       "0  0000aaaa   0.999614\n",
       "1  1111bbbb   0.999614\n",
       "2  2222cccc   0.999614"
      ]
     },
     "execution_count": 15,
     "metadata": {},
     "output_type": "execute_result"
    }
   ],
   "source": [
    "test['generated'] = test['text'].apply(predict_outcome)\n",
    "submission = test[['id', 'generated']]\n",
    "submission"
   ]
  },
  {
   "cell_type": "code",
   "execution_count": 16,
   "id": "01884d54",
   "metadata": {
    "execution": {
     "iopub.execute_input": "2024-07-10T11:09:15.591126Z",
     "iopub.status.busy": "2024-07-10T11:09:15.590704Z",
     "iopub.status.idle": "2024-07-10T11:09:15.599079Z",
     "shell.execute_reply": "2024-07-10T11:09:15.597977Z"
    },
    "papermill": {
     "duration": 0.147547,
     "end_time": "2024-07-10T11:09:15.601497",
     "exception": false,
     "start_time": "2024-07-10T11:09:15.453950",
     "status": "completed"
    },
    "tags": []
   },
   "outputs": [],
   "source": [
    "submission.to_csv('submission.csv', index=False)"
   ]
  }
 ],
 "metadata": {
  "colab": {
   "provenance": []
  },
  "kaggle": {
   "accelerator": "none",
   "dataSources": [
    {
     "databundleVersionId": 7516023,
     "sourceId": 61542,
     "sourceType": "competition"
    },
    {
     "datasetId": 4005256,
     "sourceId": 6977472,
     "sourceType": "datasetVersion"
    },
    {
     "datasetId": 4287904,
     "sourceId": 7378735,
     "sourceType": "datasetVersion"
    }
   ],
   "dockerImageVersionId": 30732,
   "isGpuEnabled": false,
   "isInternetEnabled": false,
   "language": "python",
   "sourceType": "notebook"
  },
  "kernelspec": {
   "display_name": "Python 3",
   "language": "python",
   "name": "python3"
  },
  "language_info": {
   "codemirror_mode": {
    "name": "ipython",
    "version": 3
   },
   "file_extension": ".py",
   "mimetype": "text/x-python",
   "name": "python",
   "nbconvert_exporter": "python",
   "pygments_lexer": "ipython3",
   "version": "3.10.13"
  },
  "papermill": {
   "default_parameters": {},
   "duration": 129.138129,
   "end_time": "2024-07-10T11:09:17.562155",
   "environment_variables": {},
   "exception": null,
   "input_path": "__notebook__.ipynb",
   "output_path": "__notebook__.ipynb",
   "parameters": {},
   "start_time": "2024-07-10T11:07:08.424026",
   "version": "2.5.0"
  }
 },
 "nbformat": 4,
 "nbformat_minor": 5
}
